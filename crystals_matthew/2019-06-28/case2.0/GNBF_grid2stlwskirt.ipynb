{
 "cells": [
  {
   "cell_type": "code",
   "execution_count": 17,
   "metadata": {},
   "outputs": [],
   "source": [
    "# Generic imports\n",
    "from mpl_toolkits.mplot3d import Axes3D\n",
    "import numpy as np\n",
    "import matplotlib.pyplot as plt\n",
    "import copy\n",
    "import os\n",
    "from importlib import reload\n",
    "\n",
    "# Local imports\n",
    "import sys\n",
    "sys.path.append('../../../')\n",
    "import stlstuff as sls\n",
    "import imagestuff as ims"
   ]
  },
  {
   "cell_type": "code",
   "execution_count": 18,
   "metadata": {
    "scrolled": true
   },
   "outputs": [],
   "source": [
    "# Graphics\n",
    "%matplotlib notebook"
   ]
  },
  {
   "cell_type": "code",
   "execution_count": 19,
   "metadata": {},
   "outputs": [
    {
     "name": "stdout",
     "output_type": "stream",
     "text": [
      "/Users/student/Desktop/Lincoln2019/crystals_matthew/2019-06-28/case2.0\n",
      "tudent/Desktop/Lincoln2019/crystals_matthew/2019-06-28/case2.0\n"
     ]
    },
    {
     "ename": "FileNotFoundError",
     "evalue": "[Errno 2] No such file or directory: 'Segment2retrieved.npz'",
     "output_type": "error",
     "traceback": [
      "\u001b[0;31m---------------------------------------------------------------------------\u001b[0m",
      "\u001b[0;31mFileNotFoundError\u001b[0m                         Traceback (most recent call last)",
      "\u001b[0;32m<ipython-input-19-64edf4560591>\u001b[0m in \u001b[0;36m<module>\u001b[0;34m\u001b[0m\n\u001b[1;32m      7\u001b[0m \u001b[0;34m\u001b[0m\u001b[0m\n\u001b[1;32m      8\u001b[0m \u001b[0msurfaceroot\u001b[0m \u001b[0;34m=\u001b[0m \u001b[0;34m''\u001b[0m\u001b[0;34m\u001b[0m\u001b[0;34m\u001b[0m\u001b[0m\n\u001b[0;32m----> 9\u001b[0;31m \u001b[0mnpzfile\u001b[0m \u001b[0;34m=\u001b[0m \u001b[0mnp\u001b[0m\u001b[0;34m.\u001b[0m\u001b[0mload\u001b[0m\u001b[0;34m(\u001b[0m\u001b[0mSegmentnamelistroot\u001b[0m\u001b[0;34m+\u001b[0m\u001b[0;34m'retrieved.npz'\u001b[0m\u001b[0;34m)\u001b[0m\u001b[0;34m\u001b[0m\u001b[0;34m\u001b[0m\u001b[0m\n\u001b[0m\u001b[1;32m     10\u001b[0m \u001b[0mstlfile\u001b[0m \u001b[0;34m=\u001b[0m \u001b[0mSegmentnamelistroot\u001b[0m\u001b[0;34m+\u001b[0m\u001b[0;34m'retrievedwskirt.stl'\u001b[0m\u001b[0;34m\u001b[0m\u001b[0;34m\u001b[0m\u001b[0m\n\u001b[1;32m     11\u001b[0m \u001b[0;34m\u001b[0m\u001b[0m\n",
      "\u001b[0;32m~/anaconda3/lib/python3.7/site-packages/numpy/lib/npyio.py\u001b[0m in \u001b[0;36mload\u001b[0;34m(file, mmap_mode, allow_pickle, fix_imports, encoding)\u001b[0m\n\u001b[1;32m    413\u001b[0m         \u001b[0mown_fid\u001b[0m \u001b[0;34m=\u001b[0m \u001b[0;32mFalse\u001b[0m\u001b[0;34m\u001b[0m\u001b[0;34m\u001b[0m\u001b[0m\n\u001b[1;32m    414\u001b[0m     \u001b[0;32melse\u001b[0m\u001b[0;34m:\u001b[0m\u001b[0;34m\u001b[0m\u001b[0;34m\u001b[0m\u001b[0m\n\u001b[0;32m--> 415\u001b[0;31m         \u001b[0mfid\u001b[0m \u001b[0;34m=\u001b[0m \u001b[0mopen\u001b[0m\u001b[0;34m(\u001b[0m\u001b[0mos_fspath\u001b[0m\u001b[0;34m(\u001b[0m\u001b[0mfile\u001b[0m\u001b[0;34m)\u001b[0m\u001b[0;34m,\u001b[0m \u001b[0;34m\"rb\"\u001b[0m\u001b[0;34m)\u001b[0m\u001b[0;34m\u001b[0m\u001b[0;34m\u001b[0m\u001b[0m\n\u001b[0m\u001b[1;32m    416\u001b[0m         \u001b[0mown_fid\u001b[0m \u001b[0;34m=\u001b[0m \u001b[0;32mTrue\u001b[0m\u001b[0;34m\u001b[0m\u001b[0;34m\u001b[0m\u001b[0m\n\u001b[1;32m    417\u001b[0m \u001b[0;34m\u001b[0m\u001b[0m\n",
      "\u001b[0;31mFileNotFoundError\u001b[0m: [Errno 2] No such file or directory: 'Segment2retrieved.npz'"
     ]
    }
   ],
   "source": [
    "# Get the retrieved surface\n",
    "pwd = os.getcwd()\n",
    "print(pwd)\n",
    "startpos = pwd.find('crystals/')\n",
    "case = pwd[startpos+9:]; print(case)\n",
    "Segmentnamelistroot = 'Segment2'\n",
    "\n",
    "surfaceroot = ''\n",
    "npzfile = np.load(Segmentnamelistroot+'retrieved.npz')\n",
    "stlfile = Segmentnamelistroot+'retrievedwskirt.stl'\n",
    "\n",
    "imageroot = np.array_str(npzfile['imageroot'])\n",
    "\n",
    "dx,dy,cA,cB,cC,cD,Filename = ims.getc2(surfaceroot, 'SEMimages/', imageroot)\n",
    "nx1list = npzfile['nx1list']\n",
    "nx2list = npzfile['nx2list']\n",
    "ny1list = npzfile['ny1list']\n",
    "ny2list = npzfile['ny2list']\n",
    "\n",
    "nxi = npzfile['nxi']; #print(nxi)\n",
    "nyi = npzfile['nyi']; #print(nyi)\n",
    "dnx = npzfile['dnx']; print(dnx)\n",
    "dny = npzfile['dny']; print(dny)\n",
    "solution = npzfile['solution']; #print(np.shape(solution))\n",
    "print (dx,dy)"
   ]
  },
  {
   "cell_type": "code",
   "execution_count": null,
   "metadata": {},
   "outputs": [],
   "source": [
    "# Extract the surface\n",
    "nx1tot = min(nx1list)\n",
    "nx2tot = max(nx2list)\n",
    "ny1tot = min(ny1list)\n",
    "ny2tot = max(ny2list)\n",
    "nxtot = nx2tot-nx1tot\n",
    "nytot = ny2tot-ny1tot\n",
    "settemp = solution[ny1tot:ny2tot,nx1tot:nx2tot]; print (np.shape(settemp))"
   ]
  },
  {
   "cell_type": "markdown",
   "metadata": {},
   "source": [
    "The next cell adds a skirt around the data"
   ]
  },
  {
   "cell_type": "code",
   "execution_count": null,
   "metadata": {},
   "outputs": [],
   "source": [
    "# get the dimensions \n",
    "nx,ny = np.shape(settemp)\n",
    "\n",
    "# define the bottom of the skirt\n",
    "bottom = np.min(settemp)- 20\n",
    "\n",
    "\n",
    "# add a row to beginning \n",
    "startrow = np.ones(ny)*bottom; #print(np.shape(startrow))\n",
    "\n",
    "# add a row to the end\n",
    "settemp1 = np.vstack ((startrow,settemp,startrow)); #print(np.shape(settemp1))\n",
    "settemp2 = np.transpose(settemp1); #print(np.shape(settemp2))\n",
    "\n",
    "# add a column to beginning\n",
    "newcol = np.ones(nx+2)*bottom; #print(np.shape(newcol))\n",
    "\n",
    "# add a column to the end\n",
    "settemp3 = np.vstack ((newcol,settemp2,newcol))\n",
    "settemp4 = np.transpose (settemp3)\n",
    "\n",
    "# Update the dimensions\n",
    "nytot, nxtot = np.shape(settemp4)\n",
    "print (nxtot,nytot)"
   ]
  },
  {
   "cell_type": "code",
   "execution_count": null,
   "metadata": {},
   "outputs": [],
   "source": [
    "# Display the surface here\n",
    "\n",
    "# Set display parameters\n",
    "fontsize = 25\n",
    "linewidth = 2\n",
    "xmaxtot = (nxtot-1)*dx; print (xmaxtot)\n",
    "ymaxtot = (nytot-1)*dy; print (ymaxtot)\n",
    "surf_ytot = np.linspace(0,ymaxtot,nytot); #print surf_ytot[1]-surf_ytot[0]; \n",
    "surf_xtot = np.linspace(0,xmaxtot,nxtot); #print surf_xtot[1]-surf_xtot[0]; \n",
    "surf_xgridtot, surf_ygridtot = np.meshgrid(surf_xtot,surf_ytot)\n",
    "surf_ygridtot_flipped = np.flipud(surf_ygridtot)\n",
    "\n",
    "# Display it\n",
    "fig = plt.figure()\n",
    "ax = fig.add_subplot(111, projection='3d')\n",
    "ax.plot_surface(surf_xgridtot, surf_ygridtot_flipped, settemp4, rstride=4,cstride=4, color='g')\n",
    "ax.view_init(azim=-100,elev=22)\n",
    "ax.set_xlabel('x',fontsize=fontsize)\n",
    "ax.set_ylabel('y',fontsize=fontsize)\n",
    "ax.set_zlabel('z',fontsize=fontsize)"
   ]
  },
  {
   "cell_type": "code",
   "execution_count": null,
   "metadata": {},
   "outputs": [],
   "source": [
    "# Save as stl (with possible vertical amplification)\n",
    "sls.numpy2stl(settemp4, stlfile, scale=1/dx, solid=False)\n",
    "print('Complete')"
   ]
  }
 ],
 "metadata": {
  "kernelspec": {
   "display_name": "Python 3",
   "language": "python",
   "name": "python3"
  },
  "language_info": {
   "codemirror_mode": {
    "name": "ipython",
    "version": 3
   },
   "file_extension": ".py",
   "mimetype": "text/x-python",
   "name": "python",
   "nbconvert_exporter": "python",
   "pygments_lexer": "ipython3",
   "version": "3.7.3"
  }
 },
 "nbformat": 4,
 "nbformat_minor": 1
}
