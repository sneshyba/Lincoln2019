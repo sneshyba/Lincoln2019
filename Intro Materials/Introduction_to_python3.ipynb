{
 "cells": [
  {
   "cell_type": "markdown",
   "metadata": {},
   "source": [
    "### Computational Guided Inquiry for PChem (Neshyba & Guasco, 2018)\n",
    "\n",
    "# Getting Started in Python\n",
    "\n",
    "## Objective: Learn basics of Python programming ##\n"
   ]
  },
  {
   "cell_type": "markdown",
   "metadata": {},
   "source": [
    "## Pre-class activities:\n",
    "\n",
    "Read the Introduction below, and prepare your lab notebook (the physical notebook) with a table of contents and a starting page for this activity. Don't forget to bring this notebook with you during the in-class activity."
   ]
  },
  {
   "cell_type": "markdown",
   "metadata": {},
   "source": [
    "## Introduction\n",
    "\n",
    "Python is a widely used, open source programming language developed by Guido van Rossum. It was first released in 1991. Python is a great language for beginner programmers because it was designed with the newcomer in mind. Python was designed to be readable and it has a simple and consistent syntax. Additionally, Python has a very extensive section of mathematical and scientific libraries. These libraries contain code that has already been written to perform specific tasks so you just need to know how to call the library rather than write the code itself. Lastly, Python is free.\n",
    "\n",
    "\n",
    "Here, the basic plan is for you to get used to some of the basics of python usage: how to use it as a fancy calculator, how to make simple plots, and how to debug when you get an error.\n"
   ]
  },
  {
   "cell_type": "markdown",
   "metadata": {},
   "source": [
    "## In-class activities  \n",
    "On some computers, you'll need to bring in the libraries for numerical operations and graphics. That's what the next cell does. Click in the box, and press shift-enter to execute it."
   ]
  },
  {
   "cell_type": "code",
   "execution_count": 21,
   "metadata": {},
   "outputs": [],
   "source": [
    "# Bring in numpy(for numerical operations) and matplotlib.pyplot (for graphics)\n",
    "from numpy import *\n",
    "from matplotlib.pyplot import *"
   ]
  },
  {
   "cell_type": "code",
   "execution_count": 22,
   "metadata": {},
   "outputs": [],
   "source": [
    "%matplotlib notebook"
   ]
  },
  {
   "cell_type": "markdown",
   "metadata": {},
   "source": [
    "The first program that many people learn to write is a \"Hello, world!\" program. The purpose of this program is to get your program to output the phrase Hello, world! The code cell below contains the code to successfully run such a program in Python. You can run this cell by pressing Shift and Enter at the same time."
   ]
  },
  {
   "cell_type": "code",
   "execution_count": 23,
   "metadata": {},
   "outputs": [
    {
     "name": "stdout",
     "output_type": "stream",
     "text": [
      "Hello, world!\n"
     ]
    }
   ],
   "source": [
    "print(\"Hello, world!\")"
   ]
  },
  {
   "cell_type": "markdown",
   "metadata": {},
   "source": [
    "As you can see, in Python this is a relatively simple task. We wanted to print a statement (Hello, world!) and we only needed to type the word print and then put the phrase in quotation marks. The quotation marks are how you make a <em>string</em> in Python. A string is text data as opposed to numerical data.  \n",
    "\n",
    "Use the code cell below to output the following two statements (remember you need to make the text a string):  \n",
    "\n",
    "My name is first name last name.  (Make sure to actually put in your first and last names)  \n",
    "\n",
    "I am excited to learn Physical Chemistry. "
   ]
  },
  {
   "cell_type": "code",
   "execution_count": null,
   "metadata": {},
   "outputs": [],
   "source": []
  },
  {
   "cell_type": "markdown",
   "metadata": {},
   "source": [
    "As mentioned above, strings are the data type used for text. When we want to work with numbers, we will use either integers or floating point numbers. Integers are whole numbers. Floating point numbers are ones where the number of figures to the right of the decimal varies based upon the value of the floating point number. If a whole number is written with no decimal point then Python treats it as an integer. If a number is written with a decimal point then Python treats it as a floating point number. We can easily perform the 4 basic mathematical operations using Python. "
   ]
  },
  {
   "cell_type": "code",
   "execution_count": 24,
   "metadata": {},
   "outputs": [
    {
     "name": "stdout",
     "output_type": "stream",
     "text": [
      "15\n",
      "15.0\n"
     ]
    }
   ],
   "source": [
    "# Addition\n",
    "print(5 + 10) #integer\n",
    "print(5.0 + 10.0) #floating point"
   ]
  },
  {
   "cell_type": "markdown",
   "metadata": {},
   "source": [
    "A few things to note about the cell above: \n",
    "<br>\n",
    "<br>\n",
    "1) We have used the pound symbol (#) a few times in the cell. This symbol is used to indicate a _comment_. Comments are used to annotate your code to make them easier to read and understand. I have placed the comment Addition at the top so that you knew I would be performing that operation in that cell. I have also annotated the next two lines to indicate that I was adding integers and floating point numbers in the 2nd and 3rd lines, respectively. When you use the pound symbol, everything to the right of it is ignored by Python. If I hadn't used the pound symbols and had instead just tried to write Addition, integer, or floating point, Python would have given me an error.\n",
    "<br>\n",
    "<br>\n",
    "2) We got two different answers when using integer and floating point data types. When we summed the two integers 5 and 10, we got 15. When we summed the two floating point numbers 5.0 and 10.0, we got 15.0. Python will output integers as if you perform a mathematical operation on only integers. Python will output floating point numbers if you have at least one floating point number in your calculation.\n",
    "<br>\n",
    "<br>\n",
    "3) I placed a space before and after the plus signs. I would get the exact same answers if the spaces weren't there, but the extra spaces help with code readability.\n"
   ]
  },
  {
   "cell_type": "code",
   "execution_count": 25,
   "metadata": {},
   "outputs": [
    {
     "name": "stdout",
     "output_type": "stream",
     "text": [
      "5\n"
     ]
    }
   ],
   "source": [
    "#Subtraction\n",
    "print(10 - 5)"
   ]
  },
  {
   "cell_type": "code",
   "execution_count": 26,
   "metadata": {},
   "outputs": [
    {
     "name": "stdout",
     "output_type": "stream",
     "text": [
      "45\n"
     ]
    }
   ],
   "source": [
    "#Multiplication\n",
    "print(5 * 9)"
   ]
  },
  {
   "cell_type": "code",
   "execution_count": 27,
   "metadata": {},
   "outputs": [
    {
     "name": "stdout",
     "output_type": "stream",
     "text": [
      "2.5\n"
     ]
    }
   ],
   "source": [
    "#Division\n",
    "print(5 / 2)"
   ]
  },
  {
   "cell_type": "markdown",
   "metadata": {},
   "source": [
    "It should be noted that Python follows the standard order of operations that you learned in grade school. So be careful when writing equations with multiple steps. For instance, the example below shows what can go wrong if things are placed in the wrong order. You might anticipate that the following equations all do the same thing, but, as we can see, that is not the case."
   ]
  },
  {
   "cell_type": "code",
   "execution_count": 28,
   "metadata": {},
   "outputs": [
    {
     "name": "stdout",
     "output_type": "stream",
     "text": [
      "59.0\n",
      "-45.0\n",
      "-109.0\n",
      "-45.0\n"
     ]
    }
   ],
   "source": [
    "print(9.0 * 8.0 - 13.0)\n",
    "print(9.0 * (8.0 - 13.0))\n",
    "print(8.0 - 13.0 * 9)\n",
    "print((8.0 - 13.0) * 9)"
   ]
  },
  {
   "cell_type": "markdown",
   "metadata": {},
   "source": [
    "In the following cell calculate the following: $\\dfrac{3.0}{5.0}-\\left(\\dfrac{19.0}{20.0}\\times4\\right)$. Check with a neighbor to see if you got the same thing."
   ]
  },
  {
   "cell_type": "code",
   "execution_count": null,
   "metadata": {},
   "outputs": [],
   "source": []
  },
  {
   "cell_type": "markdown",
   "metadata": {},
   "source": [
    "We can also use exponents quite easily, though the syntax might be different than what you are used to."
   ]
  },
  {
   "cell_type": "code",
   "execution_count": 29,
   "metadata": {},
   "outputs": [
    {
     "name": "stdout",
     "output_type": "stream",
     "text": [
      "25\n"
     ]
    }
   ],
   "source": [
    "print(5**2) #Double asterisks (*) are used to represent an exponent"
   ]
  },
  {
   "cell_type": "markdown",
   "metadata": {},
   "source": [
    "Python can also make use of variables for computation. A variable can be as many characters long as you want; they can be as simple as single letters, like x or y, or as long as complicated phrases like Atkins_and_dePaula_wrote_my_PChem_textbook. Variables cannot have spaces in their names so dePaula is an acceptable variable, but de Paula is not. Variables are case-sensitive, so x is a different variable than X. There are a number of words, such as print, that Python has reserved for special purposes; you cannot name your variable any of these reserved words. You will know you have typed a reserved word because it will appear green in your Notebook. Once a variable is assigned a value, it retains that value throughout a session until it is changed, thus you can use it in other cells."
   ]
  },
  {
   "cell_type": "code",
   "execution_count": 30,
   "metadata": {},
   "outputs": [
    {
     "name": "stdout",
     "output_type": "stream",
     "text": [
      "5 10\n"
     ]
    }
   ],
   "source": [
    "x = 5\n",
    "X = 10\n",
    "print(x, X) #I can print two separate things by separating them by a comma"
   ]
  },
  {
   "cell_type": "markdown",
   "metadata": {},
   "source": [
    "These variables are called \"scalars\" because there is just one value associated with them. Here are some more scalars: "
   ]
  },
  {
   "cell_type": "code",
   "execution_count": 31,
   "metadata": {},
   "outputs": [
    {
     "name": "stdout",
     "output_type": "stream",
     "text": [
      "There are 18 pieces of fruit in the basket.\n"
     ]
    }
   ],
   "source": [
    "apples = 10\n",
    "bananas = 8\n",
    "total_fruit = apples + bananas\n",
    "\n",
    "print(\"There are\", total_fruit, \"pieces of fruit in the basket.\")"
   ]
  },
  {
   "cell_type": "markdown",
   "metadata": {},
   "source": [
    "As can be seen above, you can print strings and the values of variables together in a single line. As a reminder, when you use print with a string you will get the exact text back from Python, when you use print with a variable you will get the value of that variable.  \n",
    "\n",
    "In the cell below you should write a code that calculates the average height in inches of you and one other person in the class. To do this I would like you to create three variables, two for each of the heights and one for the average. To display your average I would like you to print a statement that reports the average height in a grammatically correct sentence.  \n",
    "\n",
    "By the way, five feet = 60 inches, six feet = 72 inches."
   ]
  },
  {
   "cell_type": "code",
   "execution_count": 32,
   "metadata": {},
   "outputs": [],
   "source": [
    "# Specify your height, as a variable (e.g., me=71.0)\n",
    "\n",
    "\n",
    "# Now specify somebody else's height, also as a variable (e.g., friend=66.0)\n",
    "\n",
    "\n",
    "# Now get the average as a third variable\n",
    "\n",
    "\n",
    "# And print the third variable in a sentence, like the cell above.\n"
   ]
  },
  {
   "cell_type": "markdown",
   "metadata": {},
   "source": [
    "Next, use the cell below to compute the value of the polynomial  $y = ax^3 + bx^2 + cx+d$ at $x = 2$ using $a = 3$, $b = 1$, $c = -3$, and $d = -5$. Then print the value of the variable $y$."
   ]
  },
  {
   "cell_type": "code",
   "execution_count": 33,
   "metadata": {},
   "outputs": [],
   "source": [
    "# Assign the constants a-d\n",
    "a = 3\n",
    "b = 1\n",
    "c = -3\n",
    "d = -5\n",
    "\n",
    "# Assign a value to x\n",
    "\n",
    "\n",
    "# Calculate y using the variables a-d (don't re-enter the values!)\n",
    "\n",
    "\n",
    "# Print y\n"
   ]
  },
  {
   "cell_type": "markdown",
   "metadata": {},
   "source": [
    "So far we have discussed variables just having a single value, but often times we want to repeatedly perform a calculation on an array of numbers. An example of this might be if we wanted to plot the polynomial from the previous cell. Suppose we wanted our plot to cover the range $x = -5$ to $x = 5$. We would need to calculate $y$ at a sufficient number of points (~20) for our plot to be smooth. It would be tedious to input 20 different values of $x$ and perform the calculation one-by-one. Luckily, Python has a few different functions that we can use to create numerical arrays. The one that we will use most frequently is linspace and the cell below introduces this function."
   ]
  },
  {
   "cell_type": "code",
   "execution_count": 34,
   "metadata": {},
   "outputs": [
    {
     "name": "stdout",
     "output_type": "stream",
     "text": [
      "[-5.         -4.79591837 -4.59183673 -4.3877551  -4.18367347 -3.97959184\n",
      " -3.7755102  -3.57142857 -3.36734694 -3.16326531 -2.95918367 -2.75510204\n",
      " -2.55102041 -2.34693878 -2.14285714 -1.93877551 -1.73469388 -1.53061224\n",
      " -1.32653061 -1.12244898 -0.91836735 -0.71428571 -0.51020408 -0.30612245\n",
      " -0.10204082  0.10204082  0.30612245  0.51020408  0.71428571  0.91836735\n",
      "  1.12244898  1.32653061  1.53061224  1.73469388  1.93877551  2.14285714\n",
      "  2.34693878  2.55102041  2.75510204  2.95918367  3.16326531  3.36734694\n",
      "  3.57142857  3.7755102   3.97959184  4.18367347  4.3877551   4.59183673\n",
      "  4.79591837  5.        ]\n",
      "[-5.         -3.88888889 -2.77777778 -1.66666667 -0.55555556  0.55555556\n",
      "  1.66666667  2.77777778  3.88888889  5.        ]\n"
     ]
    }
   ],
   "source": [
    "# Generate an array (sequence of points) between -5 and 5; the number of points is 50 by default\n",
    "x = linspace(-5,5)\n",
    "print(x)\n",
    "\n",
    "# This generates 10 points between -5 and 5\n",
    "x_10 = linspace(-5,5,10)\n",
    "print(x_10)"
   ]
  },
  {
   "cell_type": "markdown",
   "metadata": {},
   "source": [
    "#### Pause for Analysis: Explain the difference between an array and a scalar. Which data type (array or scalar) does the linspace function make?"
   ]
  },
  {
   "cell_type": "markdown",
   "metadata": {},
   "source": [
    "In the cell below create a new variable called x_10 which covers a range from -3 to 4 and has 10 points. Verify that it covers the expected range and does in fact have 10 points by printing it. "
   ]
  },
  {
   "cell_type": "code",
   "execution_count": null,
   "metadata": {},
   "outputs": [],
   "source": []
  },
  {
   "cell_type": "markdown",
   "metadata": {},
   "source": [
    "For a variable like x_10, which has a limited number of points, it is easy enough to print it and look at each of them. However, we will sometimes use arrays that have many more points, but we will want to verify that it has the correct number of points. Luckily, Python has a function called _shape_ that will tell us the dimensions of an array. The cell below uses shape to prove that x_10 is in fact a column of 10 numbers. Use shape to prove that the variable $x$ contains a column of 50 numbers."
   ]
  },
  {
   "cell_type": "code",
   "execution_count": 35,
   "metadata": {},
   "outputs": [
    {
     "name": "stdout",
     "output_type": "stream",
     "text": [
      "(10,)\n"
     ]
    }
   ],
   "source": [
    "# Print the shape of variable x_10\n",
    "print(shape(x_10))\n",
    "\n",
    "# Print the shape of variable x\n"
   ]
  },
  {
   "cell_type": "markdown",
   "metadata": {},
   "source": [
    "Here's something cool: when you use an array in an algebraic expression, the resulting variable is also an array, of the same length! The cell below calculates $y$ algebraically from $x$. Remember, you have already defined the variables $a$, $b$, $c$, and $d$, so you won't need to redefine them here. "
   ]
  },
  {
   "cell_type": "code",
   "execution_count": 36,
   "metadata": {},
   "outputs": [],
   "source": [
    "y = a*x**3 + b*x**2 + c*x + d"
   ]
  },
  {
   "cell_type": "markdown",
   "metadata": {},
   "source": [
    "Now, to test you skill. In the cell below, use the shape function to find the length of your new array $y$."
   ]
  },
  {
   "cell_type": "code",
   "execution_count": null,
   "metadata": {},
   "outputs": [],
   "source": []
  },
  {
   "cell_type": "markdown",
   "metadata": {},
   "source": [
    "We got started on this endeavor of making arrays because we wanted to plot $y = ax^3 + bx^2 + cx + d$ from $x = -5$ to $x = 5$. Python has a function, conveniently called plot, which makes 2-D plots. The basic syntax of the plot function is (x,y,formatstring). So the first argument is for the horizontal axis, the second argument is for the vertical axis, and the formatstring argument will let you format your plot. For instance, if you want red circle markers you would type 'ro'. The cell below plots $y = ax^3 + bx^2 + cx + d$ from $x = -5$ to $x = 5$ as a magenta dash-dot line, and labels the x and y axes. Try it!  \n",
    "\n",
    "After you've plotted it, play around with the pan and zoom buttons. "
   ]
  },
  {
   "cell_type": "code",
   "execution_count": 37,
   "metadata": {},
   "outputs": [
    {
     "data": {
      "application/javascript": [
       "/* Put everything inside the global mpl namespace */\n",
       "window.mpl = {};\n",
       "\n",
       "\n",
       "mpl.get_websocket_type = function() {\n",
       "    if (typeof(WebSocket) !== 'undefined') {\n",
       "        return WebSocket;\n",
       "    } else if (typeof(MozWebSocket) !== 'undefined') {\n",
       "        return MozWebSocket;\n",
       "    } else {\n",
       "        alert('Your browser does not have WebSocket support.' +\n",
       "              'Please try Chrome, Safari or Firefox ≥ 6. ' +\n",
       "              'Firefox 4 and 5 are also supported but you ' +\n",
       "              'have to enable WebSockets in about:config.');\n",
       "    };\n",
       "}\n",
       "\n",
       "mpl.figure = function(figure_id, websocket, ondownload, parent_element) {\n",
       "    this.id = figure_id;\n",
       "\n",
       "    this.ws = websocket;\n",
       "\n",
       "    this.supports_binary = (this.ws.binaryType != undefined);\n",
       "\n",
       "    if (!this.supports_binary) {\n",
       "        var warnings = document.getElementById(\"mpl-warnings\");\n",
       "        if (warnings) {\n",
       "            warnings.style.display = 'block';\n",
       "            warnings.textContent = (\n",
       "                \"This browser does not support binary websocket messages. \" +\n",
       "                    \"Performance may be slow.\");\n",
       "        }\n",
       "    }\n",
       "\n",
       "    this.imageObj = new Image();\n",
       "\n",
       "    this.context = undefined;\n",
       "    this.message = undefined;\n",
       "    this.canvas = undefined;\n",
       "    this.rubberband_canvas = undefined;\n",
       "    this.rubberband_context = undefined;\n",
       "    this.format_dropdown = undefined;\n",
       "\n",
       "    this.image_mode = 'full';\n",
       "\n",
       "    this.root = $('<div/>');\n",
       "    this._root_extra_style(this.root)\n",
       "    this.root.attr('style', 'display: inline-block');\n",
       "\n",
       "    $(parent_element).append(this.root);\n",
       "\n",
       "    this._init_header(this);\n",
       "    this._init_canvas(this);\n",
       "    this._init_toolbar(this);\n",
       "\n",
       "    var fig = this;\n",
       "\n",
       "    this.waiting = false;\n",
       "\n",
       "    this.ws.onopen =  function () {\n",
       "            fig.send_message(\"supports_binary\", {value: fig.supports_binary});\n",
       "            fig.send_message(\"send_image_mode\", {});\n",
       "            if (mpl.ratio != 1) {\n",
       "                fig.send_message(\"set_dpi_ratio\", {'dpi_ratio': mpl.ratio});\n",
       "            }\n",
       "            fig.send_message(\"refresh\", {});\n",
       "        }\n",
       "\n",
       "    this.imageObj.onload = function() {\n",
       "            if (fig.image_mode == 'full') {\n",
       "                // Full images could contain transparency (where diff images\n",
       "                // almost always do), so we need to clear the canvas so that\n",
       "                // there is no ghosting.\n",
       "                fig.context.clearRect(0, 0, fig.canvas.width, fig.canvas.height);\n",
       "            }\n",
       "            fig.context.drawImage(fig.imageObj, 0, 0);\n",
       "        };\n",
       "\n",
       "    this.imageObj.onunload = function() {\n",
       "        fig.ws.close();\n",
       "    }\n",
       "\n",
       "    this.ws.onmessage = this._make_on_message_function(this);\n",
       "\n",
       "    this.ondownload = ondownload;\n",
       "}\n",
       "\n",
       "mpl.figure.prototype._init_header = function() {\n",
       "    var titlebar = $(\n",
       "        '<div class=\"ui-dialog-titlebar ui-widget-header ui-corner-all ' +\n",
       "        'ui-helper-clearfix\"/>');\n",
       "    var titletext = $(\n",
       "        '<div class=\"ui-dialog-title\" style=\"width: 100%; ' +\n",
       "        'text-align: center; padding: 3px;\"/>');\n",
       "    titlebar.append(titletext)\n",
       "    this.root.append(titlebar);\n",
       "    this.header = titletext[0];\n",
       "}\n",
       "\n",
       "\n",
       "\n",
       "mpl.figure.prototype._canvas_extra_style = function(canvas_div) {\n",
       "\n",
       "}\n",
       "\n",
       "\n",
       "mpl.figure.prototype._root_extra_style = function(canvas_div) {\n",
       "\n",
       "}\n",
       "\n",
       "mpl.figure.prototype._init_canvas = function() {\n",
       "    var fig = this;\n",
       "\n",
       "    var canvas_div = $('<div/>');\n",
       "\n",
       "    canvas_div.attr('style', 'position: relative; clear: both; outline: 0');\n",
       "\n",
       "    function canvas_keyboard_event(event) {\n",
       "        return fig.key_event(event, event['data']);\n",
       "    }\n",
       "\n",
       "    canvas_div.keydown('key_press', canvas_keyboard_event);\n",
       "    canvas_div.keyup('key_release', canvas_keyboard_event);\n",
       "    this.canvas_div = canvas_div\n",
       "    this._canvas_extra_style(canvas_div)\n",
       "    this.root.append(canvas_div);\n",
       "\n",
       "    var canvas = $('<canvas/>');\n",
       "    canvas.addClass('mpl-canvas');\n",
       "    canvas.attr('style', \"left: 0; top: 0; z-index: 0; outline: 0\")\n",
       "\n",
       "    this.canvas = canvas[0];\n",
       "    this.context = canvas[0].getContext(\"2d\");\n",
       "\n",
       "    var backingStore = this.context.backingStorePixelRatio ||\n",
       "\tthis.context.webkitBackingStorePixelRatio ||\n",
       "\tthis.context.mozBackingStorePixelRatio ||\n",
       "\tthis.context.msBackingStorePixelRatio ||\n",
       "\tthis.context.oBackingStorePixelRatio ||\n",
       "\tthis.context.backingStorePixelRatio || 1;\n",
       "\n",
       "    mpl.ratio = (window.devicePixelRatio || 1) / backingStore;\n",
       "\n",
       "    var rubberband = $('<canvas/>');\n",
       "    rubberband.attr('style', \"position: absolute; left: 0; top: 0; z-index: 1;\")\n",
       "\n",
       "    var pass_mouse_events = true;\n",
       "\n",
       "    canvas_div.resizable({\n",
       "        start: function(event, ui) {\n",
       "            pass_mouse_events = false;\n",
       "        },\n",
       "        resize: function(event, ui) {\n",
       "            fig.request_resize(ui.size.width, ui.size.height);\n",
       "        },\n",
       "        stop: function(event, ui) {\n",
       "            pass_mouse_events = true;\n",
       "            fig.request_resize(ui.size.width, ui.size.height);\n",
       "        },\n",
       "    });\n",
       "\n",
       "    function mouse_event_fn(event) {\n",
       "        if (pass_mouse_events)\n",
       "            return fig.mouse_event(event, event['data']);\n",
       "    }\n",
       "\n",
       "    rubberband.mousedown('button_press', mouse_event_fn);\n",
       "    rubberband.mouseup('button_release', mouse_event_fn);\n",
       "    // Throttle sequential mouse events to 1 every 20ms.\n",
       "    rubberband.mousemove('motion_notify', mouse_event_fn);\n",
       "\n",
       "    rubberband.mouseenter('figure_enter', mouse_event_fn);\n",
       "    rubberband.mouseleave('figure_leave', mouse_event_fn);\n",
       "\n",
       "    canvas_div.on(\"wheel\", function (event) {\n",
       "        event = event.originalEvent;\n",
       "        event['data'] = 'scroll'\n",
       "        if (event.deltaY < 0) {\n",
       "            event.step = 1;\n",
       "        } else {\n",
       "            event.step = -1;\n",
       "        }\n",
       "        mouse_event_fn(event);\n",
       "    });\n",
       "\n",
       "    canvas_div.append(canvas);\n",
       "    canvas_div.append(rubberband);\n",
       "\n",
       "    this.rubberband = rubberband;\n",
       "    this.rubberband_canvas = rubberband[0];\n",
       "    this.rubberband_context = rubberband[0].getContext(\"2d\");\n",
       "    this.rubberband_context.strokeStyle = \"#000000\";\n",
       "\n",
       "    this._resize_canvas = function(width, height) {\n",
       "        // Keep the size of the canvas, canvas container, and rubber band\n",
       "        // canvas in synch.\n",
       "        canvas_div.css('width', width)\n",
       "        canvas_div.css('height', height)\n",
       "\n",
       "        canvas.attr('width', width * mpl.ratio);\n",
       "        canvas.attr('height', height * mpl.ratio);\n",
       "        canvas.attr('style', 'width: ' + width + 'px; height: ' + height + 'px;');\n",
       "\n",
       "        rubberband.attr('width', width);\n",
       "        rubberband.attr('height', height);\n",
       "    }\n",
       "\n",
       "    // Set the figure to an initial 600x600px, this will subsequently be updated\n",
       "    // upon first draw.\n",
       "    this._resize_canvas(600, 600);\n",
       "\n",
       "    // Disable right mouse context menu.\n",
       "    $(this.rubberband_canvas).bind(\"contextmenu\",function(e){\n",
       "        return false;\n",
       "    });\n",
       "\n",
       "    function set_focus () {\n",
       "        canvas.focus();\n",
       "        canvas_div.focus();\n",
       "    }\n",
       "\n",
       "    window.setTimeout(set_focus, 100);\n",
       "}\n",
       "\n",
       "mpl.figure.prototype._init_toolbar = function() {\n",
       "    var fig = this;\n",
       "\n",
       "    var nav_element = $('<div/>')\n",
       "    nav_element.attr('style', 'width: 100%');\n",
       "    this.root.append(nav_element);\n",
       "\n",
       "    // Define a callback function for later on.\n",
       "    function toolbar_event(event) {\n",
       "        return fig.toolbar_button_onclick(event['data']);\n",
       "    }\n",
       "    function toolbar_mouse_event(event) {\n",
       "        return fig.toolbar_button_onmouseover(event['data']);\n",
       "    }\n",
       "\n",
       "    for(var toolbar_ind in mpl.toolbar_items) {\n",
       "        var name = mpl.toolbar_items[toolbar_ind][0];\n",
       "        var tooltip = mpl.toolbar_items[toolbar_ind][1];\n",
       "        var image = mpl.toolbar_items[toolbar_ind][2];\n",
       "        var method_name = mpl.toolbar_items[toolbar_ind][3];\n",
       "\n",
       "        if (!name) {\n",
       "            // put a spacer in here.\n",
       "            continue;\n",
       "        }\n",
       "        var button = $('<button/>');\n",
       "        button.addClass('ui-button ui-widget ui-state-default ui-corner-all ' +\n",
       "                        'ui-button-icon-only');\n",
       "        button.attr('role', 'button');\n",
       "        button.attr('aria-disabled', 'false');\n",
       "        button.click(method_name, toolbar_event);\n",
       "        button.mouseover(tooltip, toolbar_mouse_event);\n",
       "\n",
       "        var icon_img = $('<span/>');\n",
       "        icon_img.addClass('ui-button-icon-primary ui-icon');\n",
       "        icon_img.addClass(image);\n",
       "        icon_img.addClass('ui-corner-all');\n",
       "\n",
       "        var tooltip_span = $('<span/>');\n",
       "        tooltip_span.addClass('ui-button-text');\n",
       "        tooltip_span.html(tooltip);\n",
       "\n",
       "        button.append(icon_img);\n",
       "        button.append(tooltip_span);\n",
       "\n",
       "        nav_element.append(button);\n",
       "    }\n",
       "\n",
       "    var fmt_picker_span = $('<span/>');\n",
       "\n",
       "    var fmt_picker = $('<select/>');\n",
       "    fmt_picker.addClass('mpl-toolbar-option ui-widget ui-widget-content');\n",
       "    fmt_picker_span.append(fmt_picker);\n",
       "    nav_element.append(fmt_picker_span);\n",
       "    this.format_dropdown = fmt_picker[0];\n",
       "\n",
       "    for (var ind in mpl.extensions) {\n",
       "        var fmt = mpl.extensions[ind];\n",
       "        var option = $(\n",
       "            '<option/>', {selected: fmt === mpl.default_extension}).html(fmt);\n",
       "        fmt_picker.append(option)\n",
       "    }\n",
       "\n",
       "    // Add hover states to the ui-buttons\n",
       "    $( \".ui-button\" ).hover(\n",
       "        function() { $(this).addClass(\"ui-state-hover\");},\n",
       "        function() { $(this).removeClass(\"ui-state-hover\");}\n",
       "    );\n",
       "\n",
       "    var status_bar = $('<span class=\"mpl-message\"/>');\n",
       "    nav_element.append(status_bar);\n",
       "    this.message = status_bar[0];\n",
       "}\n",
       "\n",
       "mpl.figure.prototype.request_resize = function(x_pixels, y_pixels) {\n",
       "    // Request matplotlib to resize the figure. Matplotlib will then trigger a resize in the client,\n",
       "    // which will in turn request a refresh of the image.\n",
       "    this.send_message('resize', {'width': x_pixels, 'height': y_pixels});\n",
       "}\n",
       "\n",
       "mpl.figure.prototype.send_message = function(type, properties) {\n",
       "    properties['type'] = type;\n",
       "    properties['figure_id'] = this.id;\n",
       "    this.ws.send(JSON.stringify(properties));\n",
       "}\n",
       "\n",
       "mpl.figure.prototype.send_draw_message = function() {\n",
       "    if (!this.waiting) {\n",
       "        this.waiting = true;\n",
       "        this.ws.send(JSON.stringify({type: \"draw\", figure_id: this.id}));\n",
       "    }\n",
       "}\n",
       "\n",
       "\n",
       "mpl.figure.prototype.handle_save = function(fig, msg) {\n",
       "    var format_dropdown = fig.format_dropdown;\n",
       "    var format = format_dropdown.options[format_dropdown.selectedIndex].value;\n",
       "    fig.ondownload(fig, format);\n",
       "}\n",
       "\n",
       "\n",
       "mpl.figure.prototype.handle_resize = function(fig, msg) {\n",
       "    var size = msg['size'];\n",
       "    if (size[0] != fig.canvas.width || size[1] != fig.canvas.height) {\n",
       "        fig._resize_canvas(size[0], size[1]);\n",
       "        fig.send_message(\"refresh\", {});\n",
       "    };\n",
       "}\n",
       "\n",
       "mpl.figure.prototype.handle_rubberband = function(fig, msg) {\n",
       "    var x0 = msg['x0'] / mpl.ratio;\n",
       "    var y0 = (fig.canvas.height - msg['y0']) / mpl.ratio;\n",
       "    var x1 = msg['x1'] / mpl.ratio;\n",
       "    var y1 = (fig.canvas.height - msg['y1']) / mpl.ratio;\n",
       "    x0 = Math.floor(x0) + 0.5;\n",
       "    y0 = Math.floor(y0) + 0.5;\n",
       "    x1 = Math.floor(x1) + 0.5;\n",
       "    y1 = Math.floor(y1) + 0.5;\n",
       "    var min_x = Math.min(x0, x1);\n",
       "    var min_y = Math.min(y0, y1);\n",
       "    var width = Math.abs(x1 - x0);\n",
       "    var height = Math.abs(y1 - y0);\n",
       "\n",
       "    fig.rubberband_context.clearRect(\n",
       "        0, 0, fig.canvas.width, fig.canvas.height);\n",
       "\n",
       "    fig.rubberband_context.strokeRect(min_x, min_y, width, height);\n",
       "}\n",
       "\n",
       "mpl.figure.prototype.handle_figure_label = function(fig, msg) {\n",
       "    // Updates the figure title.\n",
       "    fig.header.textContent = msg['label'];\n",
       "}\n",
       "\n",
       "mpl.figure.prototype.handle_cursor = function(fig, msg) {\n",
       "    var cursor = msg['cursor'];\n",
       "    switch(cursor)\n",
       "    {\n",
       "    case 0:\n",
       "        cursor = 'pointer';\n",
       "        break;\n",
       "    case 1:\n",
       "        cursor = 'default';\n",
       "        break;\n",
       "    case 2:\n",
       "        cursor = 'crosshair';\n",
       "        break;\n",
       "    case 3:\n",
       "        cursor = 'move';\n",
       "        break;\n",
       "    }\n",
       "    fig.rubberband_canvas.style.cursor = cursor;\n",
       "}\n",
       "\n",
       "mpl.figure.prototype.handle_message = function(fig, msg) {\n",
       "    fig.message.textContent = msg['message'];\n",
       "}\n",
       "\n",
       "mpl.figure.prototype.handle_draw = function(fig, msg) {\n",
       "    // Request the server to send over a new figure.\n",
       "    fig.send_draw_message();\n",
       "}\n",
       "\n",
       "mpl.figure.prototype.handle_image_mode = function(fig, msg) {\n",
       "    fig.image_mode = msg['mode'];\n",
       "}\n",
       "\n",
       "mpl.figure.prototype.updated_canvas_event = function() {\n",
       "    // Called whenever the canvas gets updated.\n",
       "    this.send_message(\"ack\", {});\n",
       "}\n",
       "\n",
       "// A function to construct a web socket function for onmessage handling.\n",
       "// Called in the figure constructor.\n",
       "mpl.figure.prototype._make_on_message_function = function(fig) {\n",
       "    return function socket_on_message(evt) {\n",
       "        if (evt.data instanceof Blob) {\n",
       "            /* FIXME: We get \"Resource interpreted as Image but\n",
       "             * transferred with MIME type text/plain:\" errors on\n",
       "             * Chrome.  But how to set the MIME type?  It doesn't seem\n",
       "             * to be part of the websocket stream */\n",
       "            evt.data.type = \"image/png\";\n",
       "\n",
       "            /* Free the memory for the previous frames */\n",
       "            if (fig.imageObj.src) {\n",
       "                (window.URL || window.webkitURL).revokeObjectURL(\n",
       "                    fig.imageObj.src);\n",
       "            }\n",
       "\n",
       "            fig.imageObj.src = (window.URL || window.webkitURL).createObjectURL(\n",
       "                evt.data);\n",
       "            fig.updated_canvas_event();\n",
       "            fig.waiting = false;\n",
       "            return;\n",
       "        }\n",
       "        else if (typeof evt.data === 'string' && evt.data.slice(0, 21) == \"data:image/png;base64\") {\n",
       "            fig.imageObj.src = evt.data;\n",
       "            fig.updated_canvas_event();\n",
       "            fig.waiting = false;\n",
       "            return;\n",
       "        }\n",
       "\n",
       "        var msg = JSON.parse(evt.data);\n",
       "        var msg_type = msg['type'];\n",
       "\n",
       "        // Call the  \"handle_{type}\" callback, which takes\n",
       "        // the figure and JSON message as its only arguments.\n",
       "        try {\n",
       "            var callback = fig[\"handle_\" + msg_type];\n",
       "        } catch (e) {\n",
       "            console.log(\"No handler for the '\" + msg_type + \"' message type: \", msg);\n",
       "            return;\n",
       "        }\n",
       "\n",
       "        if (callback) {\n",
       "            try {\n",
       "                // console.log(\"Handling '\" + msg_type + \"' message: \", msg);\n",
       "                callback(fig, msg);\n",
       "            } catch (e) {\n",
       "                console.log(\"Exception inside the 'handler_\" + msg_type + \"' callback:\", e, e.stack, msg);\n",
       "            }\n",
       "        }\n",
       "    };\n",
       "}\n",
       "\n",
       "// from http://stackoverflow.com/questions/1114465/getting-mouse-location-in-canvas\n",
       "mpl.findpos = function(e) {\n",
       "    //this section is from http://www.quirksmode.org/js/events_properties.html\n",
       "    var targ;\n",
       "    if (!e)\n",
       "        e = window.event;\n",
       "    if (e.target)\n",
       "        targ = e.target;\n",
       "    else if (e.srcElement)\n",
       "        targ = e.srcElement;\n",
       "    if (targ.nodeType == 3) // defeat Safari bug\n",
       "        targ = targ.parentNode;\n",
       "\n",
       "    // jQuery normalizes the pageX and pageY\n",
       "    // pageX,Y are the mouse positions relative to the document\n",
       "    // offset() returns the position of the element relative to the document\n",
       "    var x = e.pageX - $(targ).offset().left;\n",
       "    var y = e.pageY - $(targ).offset().top;\n",
       "\n",
       "    return {\"x\": x, \"y\": y};\n",
       "};\n",
       "\n",
       "/*\n",
       " * return a copy of an object with only non-object keys\n",
       " * we need this to avoid circular references\n",
       " * http://stackoverflow.com/a/24161582/3208463\n",
       " */\n",
       "function simpleKeys (original) {\n",
       "  return Object.keys(original).reduce(function (obj, key) {\n",
       "    if (typeof original[key] !== 'object')\n",
       "        obj[key] = original[key]\n",
       "    return obj;\n",
       "  }, {});\n",
       "}\n",
       "\n",
       "mpl.figure.prototype.mouse_event = function(event, name) {\n",
       "    var canvas_pos = mpl.findpos(event)\n",
       "\n",
       "    if (name === 'button_press')\n",
       "    {\n",
       "        this.canvas.focus();\n",
       "        this.canvas_div.focus();\n",
       "    }\n",
       "\n",
       "    var x = canvas_pos.x * mpl.ratio;\n",
       "    var y = canvas_pos.y * mpl.ratio;\n",
       "\n",
       "    this.send_message(name, {x: x, y: y, button: event.button,\n",
       "                             step: event.step,\n",
       "                             guiEvent: simpleKeys(event)});\n",
       "\n",
       "    /* This prevents the web browser from automatically changing to\n",
       "     * the text insertion cursor when the button is pressed.  We want\n",
       "     * to control all of the cursor setting manually through the\n",
       "     * 'cursor' event from matplotlib */\n",
       "    event.preventDefault();\n",
       "    return false;\n",
       "}\n",
       "\n",
       "mpl.figure.prototype._key_event_extra = function(event, name) {\n",
       "    // Handle any extra behaviour associated with a key event\n",
       "}\n",
       "\n",
       "mpl.figure.prototype.key_event = function(event, name) {\n",
       "\n",
       "    // Prevent repeat events\n",
       "    if (name == 'key_press')\n",
       "    {\n",
       "        if (event.which === this._key)\n",
       "            return;\n",
       "        else\n",
       "            this._key = event.which;\n",
       "    }\n",
       "    if (name == 'key_release')\n",
       "        this._key = null;\n",
       "\n",
       "    var value = '';\n",
       "    if (event.ctrlKey && event.which != 17)\n",
       "        value += \"ctrl+\";\n",
       "    if (event.altKey && event.which != 18)\n",
       "        value += \"alt+\";\n",
       "    if (event.shiftKey && event.which != 16)\n",
       "        value += \"shift+\";\n",
       "\n",
       "    value += 'k';\n",
       "    value += event.which.toString();\n",
       "\n",
       "    this._key_event_extra(event, name);\n",
       "\n",
       "    this.send_message(name, {key: value,\n",
       "                             guiEvent: simpleKeys(event)});\n",
       "    return false;\n",
       "}\n",
       "\n",
       "mpl.figure.prototype.toolbar_button_onclick = function(name) {\n",
       "    if (name == 'download') {\n",
       "        this.handle_save(this, null);\n",
       "    } else {\n",
       "        this.send_message(\"toolbar_button\", {name: name});\n",
       "    }\n",
       "};\n",
       "\n",
       "mpl.figure.prototype.toolbar_button_onmouseover = function(tooltip) {\n",
       "    this.message.textContent = tooltip;\n",
       "};\n",
       "mpl.toolbar_items = [[\"Home\", \"Reset original view\", \"fa fa-home icon-home\", \"home\"], [\"Back\", \"Back to  previous view\", \"fa fa-arrow-left icon-arrow-left\", \"back\"], [\"Forward\", \"Forward to next view\", \"fa fa-arrow-right icon-arrow-right\", \"forward\"], [\"\", \"\", \"\", \"\"], [\"Pan\", \"Pan axes with left mouse, zoom with right\", \"fa fa-arrows icon-move\", \"pan\"], [\"Zoom\", \"Zoom to rectangle\", \"fa fa-square-o icon-check-empty\", \"zoom\"], [\"\", \"\", \"\", \"\"], [\"Download\", \"Download plot\", \"fa fa-floppy-o icon-save\", \"download\"]];\n",
       "\n",
       "mpl.extensions = [\"eps\", \"jpeg\", \"pdf\", \"png\", \"ps\", \"raw\", \"svg\", \"tif\"];\n",
       "\n",
       "mpl.default_extension = \"png\";var comm_websocket_adapter = function(comm) {\n",
       "    // Create a \"websocket\"-like object which calls the given IPython comm\n",
       "    // object with the appropriate methods. Currently this is a non binary\n",
       "    // socket, so there is still some room for performance tuning.\n",
       "    var ws = {};\n",
       "\n",
       "    ws.close = function() {\n",
       "        comm.close()\n",
       "    };\n",
       "    ws.send = function(m) {\n",
       "        //console.log('sending', m);\n",
       "        comm.send(m);\n",
       "    };\n",
       "    // Register the callback with on_msg.\n",
       "    comm.on_msg(function(msg) {\n",
       "        //console.log('receiving', msg['content']['data'], msg);\n",
       "        // Pass the mpl event to the overridden (by mpl) onmessage function.\n",
       "        ws.onmessage(msg['content']['data'])\n",
       "    });\n",
       "    return ws;\n",
       "}\n",
       "\n",
       "mpl.mpl_figure_comm = function(comm, msg) {\n",
       "    // This is the function which gets called when the mpl process\n",
       "    // starts-up an IPython Comm through the \"matplotlib\" channel.\n",
       "\n",
       "    var id = msg.content.data.id;\n",
       "    // Get hold of the div created by the display call when the Comm\n",
       "    // socket was opened in Python.\n",
       "    var element = $(\"#\" + id);\n",
       "    var ws_proxy = comm_websocket_adapter(comm)\n",
       "\n",
       "    function ondownload(figure, format) {\n",
       "        window.open(figure.imageObj.src);\n",
       "    }\n",
       "\n",
       "    var fig = new mpl.figure(id, ws_proxy,\n",
       "                           ondownload,\n",
       "                           element.get(0));\n",
       "\n",
       "    // Call onopen now - mpl needs it, as it is assuming we've passed it a real\n",
       "    // web socket which is closed, not our websocket->open comm proxy.\n",
       "    ws_proxy.onopen();\n",
       "\n",
       "    fig.parent_element = element.get(0);\n",
       "    fig.cell_info = mpl.find_output_cell(\"<div id='\" + id + \"'></div>\");\n",
       "    if (!fig.cell_info) {\n",
       "        console.error(\"Failed to find cell for figure\", id, fig);\n",
       "        return;\n",
       "    }\n",
       "\n",
       "    var output_index = fig.cell_info[2]\n",
       "    var cell = fig.cell_info[0];\n",
       "\n",
       "};\n",
       "\n",
       "mpl.figure.prototype.handle_close = function(fig, msg) {\n",
       "    var width = fig.canvas.width/mpl.ratio\n",
       "    fig.root.unbind('remove')\n",
       "\n",
       "    // Update the output cell to use the data from the current canvas.\n",
       "    fig.push_to_output();\n",
       "    var dataURL = fig.canvas.toDataURL();\n",
       "    // Re-enable the keyboard manager in IPython - without this line, in FF,\n",
       "    // the notebook keyboard shortcuts fail.\n",
       "    IPython.keyboard_manager.enable()\n",
       "    $(fig.parent_element).html('<img src=\"' + dataURL + '\" width=\"' + width + '\">');\n",
       "    fig.close_ws(fig, msg);\n",
       "}\n",
       "\n",
       "mpl.figure.prototype.close_ws = function(fig, msg){\n",
       "    fig.send_message('closing', msg);\n",
       "    // fig.ws.close()\n",
       "}\n",
       "\n",
       "mpl.figure.prototype.push_to_output = function(remove_interactive) {\n",
       "    // Turn the data on the canvas into data in the output cell.\n",
       "    var width = this.canvas.width/mpl.ratio\n",
       "    var dataURL = this.canvas.toDataURL();\n",
       "    this.cell_info[1]['text/html'] = '<img src=\"' + dataURL + '\" width=\"' + width + '\">';\n",
       "}\n",
       "\n",
       "mpl.figure.prototype.updated_canvas_event = function() {\n",
       "    // Tell IPython that the notebook contents must change.\n",
       "    IPython.notebook.set_dirty(true);\n",
       "    this.send_message(\"ack\", {});\n",
       "    var fig = this;\n",
       "    // Wait a second, then push the new image to the DOM so\n",
       "    // that it is saved nicely (might be nice to debounce this).\n",
       "    setTimeout(function () { fig.push_to_output() }, 1000);\n",
       "}\n",
       "\n",
       "mpl.figure.prototype._init_toolbar = function() {\n",
       "    var fig = this;\n",
       "\n",
       "    var nav_element = $('<div/>')\n",
       "    nav_element.attr('style', 'width: 100%');\n",
       "    this.root.append(nav_element);\n",
       "\n",
       "    // Define a callback function for later on.\n",
       "    function toolbar_event(event) {\n",
       "        return fig.toolbar_button_onclick(event['data']);\n",
       "    }\n",
       "    function toolbar_mouse_event(event) {\n",
       "        return fig.toolbar_button_onmouseover(event['data']);\n",
       "    }\n",
       "\n",
       "    for(var toolbar_ind in mpl.toolbar_items){\n",
       "        var name = mpl.toolbar_items[toolbar_ind][0];\n",
       "        var tooltip = mpl.toolbar_items[toolbar_ind][1];\n",
       "        var image = mpl.toolbar_items[toolbar_ind][2];\n",
       "        var method_name = mpl.toolbar_items[toolbar_ind][3];\n",
       "\n",
       "        if (!name) { continue; };\n",
       "\n",
       "        var button = $('<button class=\"btn btn-default\" href=\"#\" title=\"' + name + '\"><i class=\"fa ' + image + ' fa-lg\"></i></button>');\n",
       "        button.click(method_name, toolbar_event);\n",
       "        button.mouseover(tooltip, toolbar_mouse_event);\n",
       "        nav_element.append(button);\n",
       "    }\n",
       "\n",
       "    // Add the status bar.\n",
       "    var status_bar = $('<span class=\"mpl-message\" style=\"text-align:right; float: right;\"/>');\n",
       "    nav_element.append(status_bar);\n",
       "    this.message = status_bar[0];\n",
       "\n",
       "    // Add the close button to the window.\n",
       "    var buttongrp = $('<div class=\"btn-group inline pull-right\"></div>');\n",
       "    var button = $('<button class=\"btn btn-mini btn-primary\" href=\"#\" title=\"Stop Interaction\"><i class=\"fa fa-power-off icon-remove icon-large\"></i></button>');\n",
       "    button.click(function (evt) { fig.handle_close(fig, {}); } );\n",
       "    button.mouseover('Stop Interaction', toolbar_mouse_event);\n",
       "    buttongrp.append(button);\n",
       "    var titlebar = this.root.find($('.ui-dialog-titlebar'));\n",
       "    titlebar.prepend(buttongrp);\n",
       "}\n",
       "\n",
       "mpl.figure.prototype._root_extra_style = function(el){\n",
       "    var fig = this\n",
       "    el.on(\"remove\", function(){\n",
       "\tfig.close_ws(fig, {});\n",
       "    });\n",
       "}\n",
       "\n",
       "mpl.figure.prototype._canvas_extra_style = function(el){\n",
       "    // this is important to make the div 'focusable\n",
       "    el.attr('tabindex', 0)\n",
       "    // reach out to IPython and tell the keyboard manager to turn it's self\n",
       "    // off when our div gets focus\n",
       "\n",
       "    // location in version 3\n",
       "    if (IPython.notebook.keyboard_manager) {\n",
       "        IPython.notebook.keyboard_manager.register_events(el);\n",
       "    }\n",
       "    else {\n",
       "        // location in version 2\n",
       "        IPython.keyboard_manager.register_events(el);\n",
       "    }\n",
       "\n",
       "}\n",
       "\n",
       "mpl.figure.prototype._key_event_extra = function(event, name) {\n",
       "    var manager = IPython.notebook.keyboard_manager;\n",
       "    if (!manager)\n",
       "        manager = IPython.keyboard_manager;\n",
       "\n",
       "    // Check for shift+enter\n",
       "    if (event.shiftKey && event.which == 13) {\n",
       "        this.canvas_div.blur();\n",
       "        event.shiftKey = false;\n",
       "        // Send a \"J\" for go to next cell\n",
       "        event.which = 74;\n",
       "        event.keyCode = 74;\n",
       "        manager.command_mode();\n",
       "        manager.handle_keydown(event);\n",
       "    }\n",
       "}\n",
       "\n",
       "mpl.figure.prototype.handle_save = function(fig, msg) {\n",
       "    fig.ondownload(fig, null);\n",
       "}\n",
       "\n",
       "\n",
       "mpl.find_output_cell = function(html_output) {\n",
       "    // Return the cell and output element which can be found *uniquely* in the notebook.\n",
       "    // Note - this is a bit hacky, but it is done because the \"notebook_saving.Notebook\"\n",
       "    // IPython event is triggered only after the cells have been serialised, which for\n",
       "    // our purposes (turning an active figure into a static one), is too late.\n",
       "    var cells = IPython.notebook.get_cells();\n",
       "    var ncells = cells.length;\n",
       "    for (var i=0; i<ncells; i++) {\n",
       "        var cell = cells[i];\n",
       "        if (cell.cell_type === 'code'){\n",
       "            for (var j=0; j<cell.output_area.outputs.length; j++) {\n",
       "                var data = cell.output_area.outputs[j];\n",
       "                if (data.data) {\n",
       "                    // IPython >= 3 moved mimebundle to data attribute of output\n",
       "                    data = data.data;\n",
       "                }\n",
       "                if (data['text/html'] == html_output) {\n",
       "                    return [cell, data, j];\n",
       "                }\n",
       "            }\n",
       "        }\n",
       "    }\n",
       "}\n",
       "\n",
       "// Register the function which deals with the matplotlib target/channel.\n",
       "// The kernel may be null if the page has been refreshed.\n",
       "if (IPython.notebook.kernel != null) {\n",
       "    IPython.notebook.kernel.comm_manager.register_target('matplotlib', mpl.mpl_figure_comm);\n",
       "}\n"
      ],
      "text/plain": [
       "<IPython.core.display.Javascript object>"
      ]
     },
     "metadata": {},
     "output_type": "display_data"
    },
    {
     "data": {
      "text/html": [
       "<img src=\"data:image/png;base64,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\" width=\"640\">"
      ],
      "text/plain": [
       "<IPython.core.display.HTML object>"
      ]
     },
     "metadata": {},
     "output_type": "display_data"
    },
    {
     "data": {
      "text/plain": [
       "Text(0,0.5,'y')"
      ]
     },
     "execution_count": 37,
     "metadata": {},
     "output_type": "execute_result"
    }
   ],
   "source": [
    "# This initializes the plot window\n",
    "figure()\n",
    "\n",
    "# This plots y as a function of x\n",
    "plot(x,y,'ro-.')\n",
    "xlabel('this is the x-axis')\n",
    "ylabel('y')"
   ]
  },
  {
   "cell_type": "markdown",
   "metadata": {},
   "source": [
    "You have lots of other built-in functions available in python. One is the exponent function, which can take as an argument either a number, a variable, or even a formula!"
   ]
  },
  {
   "cell_type": "code",
   "execution_count": 38,
   "metadata": {},
   "outputs": [
    {
     "name": "stdout",
     "output_type": "stream",
     "text": [
      "e^5 is 148.4131591025766\n",
      "e^x is [6.73794700e-03 8.26340650e-03 1.01342274e-02 1.24285989e-02\n",
      " 1.52424121e-02 1.86932677e-02 2.29253910e-02 2.81156597e-02\n",
      " 3.44809963e-02 4.22874340e-02 5.18612356e-02 6.36025293e-02\n",
      " 7.80020315e-02 9.56615559e-02 1.17319166e-01 1.43880022e-01\n",
      " 1.76454209e-01 2.16403135e-01 2.65396429e-01 3.25481720e-01\n",
      " 3.99170216e-01 4.89541660e-01 6.00373041e-01 7.36296455e-01\n",
      " 9.02992694e-01 1.10742867e+00 1.35814860e+00 1.66563108e+00\n",
      " 2.04272707e+00 2.50519693e+00 3.07236917e+00 3.76794821e+00\n",
      " 4.62100514e+00 5.66719268e+00 6.95023527e+00 8.52375646e+00\n",
      " 1.04535201e+01 1.28201789e+01 1.57226452e+01 1.92822247e+01\n",
      " 2.36476869e+01 2.90014822e+01 3.55673674e+01 4.36197576e+01\n",
      " 5.34951950e+01 6.56064143e+01 8.04595925e+01 9.86755045e+01\n",
      " 1.21015467e+02 1.48413159e+02]\n"
     ]
    }
   ],
   "source": [
    "print(\"e^5 is\", exp(5))\n",
    "print(\"e^x is\", exp(x))"
   ]
  },
  {
   "cell_type": "markdown",
   "metadata": {},
   "source": [
    "Now, to test you skill. In the cell below, calculate and plot $y = 4e^{-x ^{2}}$ from $x = -3$ to $x = 3$. To make sure your curve is smooth use at least 100 points. Label your axes as x-axis and y-axis. Add axis labels using the functions xlabel and ylabel."
   ]
  },
  {
   "cell_type": "code",
   "execution_count": 39,
   "metadata": {},
   "outputs": [],
   "source": [
    "# Initialize the plot window\n",
    "\n",
    "# Calculate a new x-array from -3 to 3, with 100 points\n",
    "\n",
    "# Calculate a new y-array \n",
    "\n",
    "# Plot y as a function of x\n",
    "\n",
    "# Label the x and y axes\n"
   ]
  },
  {
   "cell_type": "markdown",
   "metadata": {},
   "source": [
    "The last topic we will cover are error messages. Perhaps you have already encountered these above. If you haven't already, you will at some point in the course. Everyone makes mistakes while programming. The key is to learn how to understand the error messages that Python gives and use that information to fix your code. The cells below each contain at least one error. Run them first as they are written to see the error message and then go back and fix the cell."
   ]
  },
  {
   "cell_type": "code",
   "execution_count": 20,
   "metadata": {},
   "outputs": [
    {
     "ename": "NameError",
     "evalue": "name 'i' is not defined",
     "output_type": "error",
     "traceback": [
      "\u001b[0;31m---------------------------------------------------------------------------\u001b[0m",
      "\u001b[0;31mNameError\u001b[0m                                 Traceback (most recent call last)",
      "\u001b[0;32m<ipython-input-20-fdf6e36ea5e8>\u001b[0m in \u001b[0;36m<module>\u001b[0;34m()\u001b[0m\n\u001b[1;32m      1\u001b[0m \u001b[0;31m# Might want to think about the order in which variables are defined here\u001b[0m\u001b[0;34m\u001b[0m\u001b[0;34m\u001b[0m\u001b[0m\n\u001b[0;32m----> 2\u001b[0;31m \u001b[0mj\u001b[0m \u001b[0;34m=\u001b[0m \u001b[0mi\u001b[0m\u001b[0;34m**\u001b[0m\u001b[0;36m2\u001b[0m\u001b[0;34m\u001b[0m\u001b[0m\n\u001b[0m\u001b[1;32m      3\u001b[0m \u001b[0mi\u001b[0m \u001b[0;34m=\u001b[0m \u001b[0mlinspace\u001b[0m\u001b[0;34m(\u001b[0m\u001b[0;34m-\u001b[0m\u001b[0;36m3\u001b[0m\u001b[0;34m,\u001b[0m\u001b[0;36m3\u001b[0m\u001b[0;34m)\u001b[0m\u001b[0;34m\u001b[0m\u001b[0m\n",
      "\u001b[0;31mNameError\u001b[0m: name 'i' is not defined"
     ]
    }
   ],
   "source": [
    "# Might want to think about the order in which variables are defined here\n",
    "j = i**2\n",
    "i = linspace(-3,3)"
   ]
  },
  {
   "cell_type": "code",
   "execution_count": null,
   "metadata": {},
   "outputs": [],
   "source": [
    "# Variable names are case-sensitive\n",
    "First_name = \"Donald\"\n",
    "Last_name = \"Trump\"\n",
    "print(\"The President of the United States of America is\", First_name, last_name)"
   ]
  },
  {
   "cell_type": "code",
   "execution_count": null,
   "metadata": {},
   "outputs": [],
   "source": [
    "print(I am so glad I am learning to program using Python.)"
   ]
  },
  {
   "cell_type": "code",
   "execution_count": null,
   "metadata": {},
   "outputs": [],
   "source": [
    "# There is one syntax error here \n",
    "a = 3\n",
    "b = -4\n",
    "x = linspace(0,1.5)\n",
    "f_x = a*exp(bx)\n",
    "\n",
    "# Trying to plot f(x) ... But this is not right \n",
    "figure()\n",
    "plot(f_x,x)"
   ]
  },
  {
   "cell_type": "code",
   "execution_count": null,
   "metadata": {},
   "outputs": [],
   "source": [
    "n = linespace(-3,3)\n",
    "m = n**2\n",
    "figure()\n",
    "plot(n,m)"
   ]
  },
  {
   "cell_type": "code",
   "execution_count": null,
   "metadata": {},
   "outputs": [],
   "source": [
    "cars = 100.0\n",
    "space_in_a_car = 4.0\n",
    "drivers = 30\n",
    "passengers = 90\n",
    "cars_not_driven = Cars - Drivers\n",
    "cars_driven = drivers\n",
    "carpool_capacity = carsdriven * spaceinacar\n",
    "average_passengers_per_car = passengers / cars_driven\n",
    "\n",
    "print(\"We have\", passengers, \"to carpool today.\")\n",
    "print(\"We need to put about\", average_passengers_per_car, \"in each car.\")"
   ]
  },
  {
   "cell_type": "markdown",
   "metadata": {},
   "source": [
    "Double-checking your work ... When you're at the end of a notebook that involved a lot of editing, it's often a good idea to double-check that nothing was left out. One way to do that is to use the drop-down item \"Cell/Run All\". Do that now, and look over the entire notebook to verify that there were no errors."
   ]
  },
  {
   "cell_type": "markdown",
   "metadata": {},
   "source": [
    "## Post-class reflection:  \n",
    "\n",
    "In your lab notebook, write a brief definition of the functions <em>print, linspace, shape, plot, xlabel, and ylabel</em>, and give examples with proper python syntax. Also write down your responses in the \"pause for analysis\" sections. I will be looking for evidence of thoughtful engagement in these entries.\n",
    "\n",
    "I'll also be looking at your python notebook (the .ipynb file) on the CGI server. I will be looking for evidence of your mastery of the computational methods embedded in the exercise: whether the notebook is complete and your results accurate.\n"
   ]
  }
 ],
 "metadata": {
  "kernelspec": {
   "display_name": "Python 3",
   "language": "python",
   "name": "python3"
  },
  "language_info": {
   "codemirror_mode": {
    "name": "ipython",
    "version": 3
   },
   "file_extension": ".py",
   "mimetype": "text/x-python",
   "name": "python",
   "nbconvert_exporter": "python",
   "pygments_lexer": "ipython3",
   "version": "3.6.5"
  }
 },
 "nbformat": 4,
 "nbformat_minor": 1
}
